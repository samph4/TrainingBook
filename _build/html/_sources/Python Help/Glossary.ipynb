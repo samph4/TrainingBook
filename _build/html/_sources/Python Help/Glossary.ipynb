{
 "cells": [
  {
   "cell_type": "markdown",
   "metadata": {},
   "source": [
    "# Glossary\n",
    "\n",
    "Adapted from - https://www.codecademy.com/articles/glossary-python.\n",
    "\n",
    "`github.com/samph4`\n",
    "\n",
    "~ "
   ]
  },
  {
   "cell_type": "markdown",
   "metadata": {},
   "source": [
    "## Class\n",
    "\n",
    "Python is a language that supports the Object Oriented Programming (OOP) paradigm. Like other OOP languages, python has classes which are defined wireframes of objects. Python supports class inheritance. A class may have many subclasses but may only inherit directly from one superclass.\n",
    "\n",
    "### Syntax"
   ]
  },
  {
   "cell_type": "code",
   "execution_count": 10,
   "metadata": {},
   "outputs": [],
   "source": [
    "class ClassName(object):\n",
    "    \"\"\"This is a class\"\"\"\n",
    "    class_variable = 'some value'\n",
    "    def __init__(self,*args):\n",
    "        self.args=args\n",
    "        \n",
    "    def _repr_(self):\n",
    "        return \"Something to represent the object as a string\"\n",
    "    \n",
    "    def other_method(self, *args):\n",
    "        return \"do something else\""
   ]
  },
  {
   "cell_type": "markdown",
   "metadata": {},
   "source": [
    "### Example"
   ]
  },
  {
   "cell_type": "code",
   "execution_count": 8,
   "metadata": {},
   "outputs": [],
   "source": [
    "class Horse(object):\n",
    "    \"\"\"Horse represents a horse\"\"\"\n",
    "    species = \"Equus ferus caballus\"\n",
    "    def _init_(self, color, weight, wild=False):\n",
    "        self.color = color\n",
    "        self.weight = weight \n",
    "        self.wild = wild\n",
    "        \n",
    "    def _repr_(self):\n",
    "        return \"%s horse weighing %f and wild status is %b\" % (self.color, self.weight, self.wild)\n",
    "    \n",
    "    def make_sound(self):\n",
    "        print(\"neighhhhh\")\n",
    "    \n",
    "    def movement(self):\n",
    "        return \"walk\""
   ]
  },
  {
   "cell_type": "markdown",
   "metadata": {},
   "source": [
    "## Comments\n",
    "\n",
    "It's good practice to add comments to code to make it easier for others to understand what's happening. Code and algorithms can get messy, so it's good to augment code with human readable descriptions to explain design decisions. We do this simply by using the # key."
   ]
  },
  {
   "cell_type": "code",
   "execution_count": 6,
   "metadata": {},
   "outputs": [],
   "source": [
    "# we use the '#' key to make single line comments"
   ]
  },
  {
   "cell_type": "markdown",
   "metadata": {},
   "source": [
    "Although sometimes we might wish to add a larger comment, that spans multiple lines. To do this, we use three apostrophes (speech marks also work)."
   ]
  },
  {
   "cell_type": "code",
   "execution_count": 17,
   "metadata": {},
   "outputs": [
    {
     "data": {
      "text/plain": [
       "'\\nthis is a much larger comment\\nthat spans more than one line ~\\nIt is useful when you want to comment\\nout multiple lines at once!\\n'"
      ]
     },
     "execution_count": 17,
     "metadata": {},
     "output_type": "execute_result"
    }
   ],
   "source": [
    "\"\"\"\n",
    "this is a much larger comment\n",
    "that spans more than one line ~\n",
    "It is useful when you want to comment\n",
    "out multiple lines at once!\n",
    "\"\"\""
   ]
  },
  {
   "cell_type": "markdown",
   "metadata": {},
   "source": [
    "```{tip}\n",
    "You can also highlight multiple lines of code and use the command Ctrl-/ to quickly comment out the entire selection!\n",
    "```"
   ]
  },
  {
   "cell_type": "markdown",
   "metadata": {},
   "source": [
    "## print()\n",
    "\n",
    "A useful function to display the output of a program."
   ]
  },
  {
   "cell_type": "code",
   "execution_count": 26,
   "metadata": {},
   "outputs": [
    {
     "name": "stdout",
     "output_type": "stream",
     "text": [
      "some text here\n"
     ]
    }
   ],
   "source": [
    "print('some text here')"
   ]
  },
  {
   "cell_type": "markdown",
   "metadata": {},
   "source": [
    "## range()\n",
    "\n",
    "The `range()` function returns a list of integers, the sequence of which is defined by the arguments passed to it.\n",
    "\n",
    "### Example"
   ]
  },
  {
   "cell_type": "code",
   "execution_count": 32,
   "metadata": {},
   "outputs": [],
   "source": [
    "a = range(4)         #[0,1,2,3]\n",
    "b = range(2,8)       #[2,3,4,5,6,7]\n",
    "c = range(2,13,3)    #[2,5,8,11]"
   ]
  },
  {
   "cell_type": "markdown",
   "metadata": {},
   "source": [
    "## Slice\n",
    "\n",
    "Pythons way of indexing variables (like we do in MATLAB) is known as slicing and has both some similarities and some differences. One **key** difference is that indexing in Python begins at 0, and not 1. This means that if you wish to access the first element of an array, you refer to the 0th element rather than the 1st.\n",
    "\n",
    "By 'slicing', we similarly use the square bracket that specifies the start and end of the section we wish to extract. Leaving the beginning value blank indicates you wish to start at the beginning, of the list, and leaving the ending value blank indicates that you wish to continue until the end of the list (this is the same for arrays and vectors). Using a negative value references the end of the list (so that in a list of 4 elements, -1 means the 4th element).\n",
    "\n",
    "### Examples"
   ]
  },
  {
   "cell_type": "code",
   "execution_count": 42,
   "metadata": {},
   "outputs": [
    {
     "data": {
      "text/plain": [
       "2"
      ]
     },
     "execution_count": 42,
     "metadata": {},
     "output_type": "execute_result"
    }
   ],
   "source": [
    "x = [1,2,3,4]\n",
    "\n",
    "#specifying a single element\n",
    "x[1]"
   ]
  },
  {
   "cell_type": "code",
   "execution_count": 38,
   "metadata": {},
   "outputs": [
    {
     "data": {
      "text/plain": [
       "[3, 4]"
      ]
     },
     "execution_count": 38,
     "metadata": {},
     "output_type": "execute_result"
    }
   ],
   "source": [
    "# specify beginning and end\n",
    "x[2:4]"
   ]
  },
  {
   "cell_type": "code",
   "execution_count": 39,
   "metadata": {},
   "outputs": [
    {
     "data": {
      "text/plain": [
       "[3, 4]"
      ]
     },
     "execution_count": 39,
     "metadata": {},
     "output_type": "execute_result"
    }
   ],
   "source": [
    "# specifying start at the next to last element and go to the end\n",
    "x[-2:]"
   ]
  },
  {
   "cell_type": "code",
   "execution_count": 40,
   "metadata": {},
   "outputs": [
    {
     "data": {
      "text/plain": [
       "[1, 2, 3]"
      ]
     },
     "execution_count": 40,
     "metadata": {},
     "output_type": "execute_result"
    }
   ],
   "source": [
    "# specifying start at the beginning and go to the next to last element\n",
    "x[:-1]"
   ]
  },
  {
   "cell_type": "code",
   "execution_count": 43,
   "metadata": {},
   "outputs": [
    {
     "data": {
      "text/plain": [
       "[1, 3, 5, 7]"
      ]
     },
     "execution_count": 43,
     "metadata": {},
     "output_type": "execute_result"
    }
   ],
   "source": [
    "# specifying a step argument returns every nth item\n",
    "y = [1,2,3,4,5,6,7,8]\n",
    "y[::2]"
   ]
  },
  {
   "cell_type": "code",
   "execution_count": 44,
   "metadata": {},
   "outputs": [
    {
     "data": {
      "text/plain": [
       "[4, 3, 2, 1]"
      ]
     },
     "execution_count": 44,
     "metadata": {},
     "output_type": "execute_result"
    }
   ],
   "source": [
    "# return a reversed version of the list (or string)\n",
    "x[::-1]"
   ]
  },
  {
   "cell_type": "code",
   "execution_count": 46,
   "metadata": {},
   "outputs": [
    {
     "data": {
      "text/plain": [
       "'nospmoht leumas'"
      ]
     },
     "execution_count": 46,
     "metadata": {},
     "output_type": "execute_result"
    }
   ],
   "source": [
    "# string reverse\n",
    "my_name = 'samuel thompson'\n",
    "my_name[::-1]"
   ]
  },
  {
   "cell_type": "markdown",
   "metadata": {},
   "source": [
    "## Strings\n",
    "\n",
    "Strings store characters and have many built-in convenience methods that let you modify their content. Strings are immutable, meaning they cannot be changed in place.\n",
    "\n",
    "### Example"
   ]
  },
  {
   "cell_type": "code",
   "execution_count": 19,
   "metadata": {},
   "outputs": [
    {
     "data": {
      "text/plain": [
       "'this is also a string'"
      ]
     },
     "execution_count": 19,
     "metadata": {},
     "output_type": "execute_result"
    }
   ],
   "source": [
    "string1 = 'this is a valid string'\n",
    "string2 = \"this is also a valid string\"   # note speech marks this time\n",
    "string3 = 'this is' + ' ' + 'also' + ' ' + 'a string'\n",
    "string3"
   ]
  },
  {
   "cell_type": "markdown",
   "metadata": {},
   "source": [
    "You can also include variables into string outputs by using f strings. See below:"
   ]
  },
  {
   "cell_type": "code",
   "execution_count": 25,
   "metadata": {},
   "outputs": [
    {
     "data": {
      "text/plain": [
       "('The man has a mass of', 80, 'kg.')"
      ]
     },
     "execution_count": 25,
     "metadata": {},
     "output_type": "execute_result"
    }
   ],
   "source": [
    "a = 80\n",
    "\n",
    "string = f'The man has a mass of', a,'kg.'\n",
    "string"
   ]
  },
  {
   "cell_type": "code",
   "execution_count": 23,
   "metadata": {},
   "outputs": [
    {
     "data": {
      "text/plain": [
       "'Jane is 50.00 years old and her husband Jim is 46 years old'"
      ]
     },
     "execution_count": 23,
     "metadata": {},
     "output_type": "execute_result"
    }
   ],
   "source": [
    "b = 50\n",
    "c = 46\n",
    "\n",
    "string = 'Jane is %.2f years old and her husband Jim is %d years old' % (b,c)\n",
    "string"
   ]
  },
  {
   "cell_type": "markdown",
   "metadata": {},
   "source": [
    "```{note}\n",
    "It is common to create strings using the % format. This is useful for a few reasons; one of which is that you can define the variables at the end of the string to make things a little clearer  - but also, it allows you to define the precision of the variables. ~%d is an integer value, %.2f has 2 decimal places etc.\n",
    "```"
   ]
  },
  {
   "cell_type": "markdown",
   "metadata": {},
   "source": [
    "## Tuples\n",
    "\n",
    "A Python data type that holds an ordered collection of values, which can be of any type. Python tuples are 'immutable', meaning that once they have been created they can no longer be modified.\n",
    "\n",
    "### Example"
   ]
  },
  {
   "cell_type": "code",
   "execution_count": 18,
   "metadata": {},
   "outputs": [
    {
     "data": {
      "text/plain": [
       "(1, 2, 3, 4)"
      ]
     },
     "execution_count": 18,
     "metadata": {},
     "output_type": "execute_result"
    }
   ],
   "source": [
    "# tuples\n",
    "x = (1,2,3,4)\n",
    "y = ('banana', 'eggs', 'cereal')\n",
    "\n",
    "my_list = [1,2,3,4]\n",
    "my_tuple = tuple(my_list)\n",
    "my_tuple"
   ]
  },
  {
   "cell_type": "markdown",
   "metadata": {},
   "source": [
    "```{tip}\n",
    "You can convert a list to a tuple by using the Python default function tuple(). Simply pass the list within the tuple function.\n",
    "```"
   ]
  },
  {
   "cell_type": "markdown",
   "metadata": {},
   "source": [
    "## Variables\n",
    "\n",
    "Similar to MATLAB, variables are defined simply by using the = operator. This is not to be confused by the == operator which is used to test the equality of two variables. A variable can hold almost any type of variable such as lists, dictionaries and functions.\n",
    "\n",
    "### Example"
   ]
  },
  {
   "cell_type": "code",
   "execution_count": 14,
   "metadata": {},
   "outputs": [],
   "source": [
    "x = 12                          #integer\n",
    "y = 'this is a string'          #string\n",
    "z = [1,2,3,4]                   #list"
   ]
  },
  {
   "cell_type": "markdown",
   "metadata": {},
   "source": [
    "```{note}\n",
    "In MATLAB defining z = [1,2,3,4] would return a vector with four elements, by default in Python this creates a list. In order to create arrays, use the numpy package instead!\n",
    "```"
   ]
  },
  {
   "cell_type": "markdown",
   "metadata": {},
   "source": [
    "## Miscellaneous"
   ]
  },
  {
   "cell_type": "markdown",
   "metadata": {},
   "source": [
    "### Attribute\n",
    "\n",
    "A module is a Python object with arbitrarily named attributes that you can bind and reference. Simply, a module is a file consisting of Python code and can define functions, classes and variables."
   ]
  },
  {
   "cell_type": "markdown",
   "metadata": {},
   "source": [
    "### Module\n",
    "\n",
    "A module is a Python object with arbitrarily named attributes that you can bind and reference. Simply, a module is a file consisting of Python code and can define functions, classes and variables."
   ]
  },
  {
   "cell_type": "code",
   "execution_count": null,
   "metadata": {},
   "outputs": [],
   "source": []
  },
  {
   "cell_type": "code",
   "execution_count": null,
   "metadata": {},
   "outputs": [],
   "source": []
  },
  {
   "cell_type": "code",
   "execution_count": null,
   "metadata": {},
   "outputs": [],
   "source": []
  },
  {
   "cell_type": "code",
   "execution_count": null,
   "metadata": {},
   "outputs": [],
   "source": []
  },
  {
   "cell_type": "code",
   "execution_count": null,
   "metadata": {},
   "outputs": [],
   "source": []
  },
  {
   "cell_type": "code",
   "execution_count": null,
   "metadata": {},
   "outputs": [],
   "source": []
  }
 ],
 "metadata": {
  "hide_input": false,
  "kernelspec": {
   "display_name": "Python 3.7 (tensorflow)",
   "language": "python",
   "name": "tensorflow"
  },
  "language_info": {
   "codemirror_mode": {
    "name": "ipython",
    "version": 3
   },
   "file_extension": ".py",
   "mimetype": "text/x-python",
   "name": "python",
   "nbconvert_exporter": "python",
   "pygments_lexer": "ipython3",
   "version": "3.7.7"
  },
  "varInspector": {
   "cols": {
    "lenName": 16,
    "lenType": 16,
    "lenVar": 40
   },
   "kernels_config": {
    "python": {
     "delete_cmd_postfix": "",
     "delete_cmd_prefix": "del ",
     "library": "var_list.py",
     "varRefreshCmd": "print(var_dic_list())"
    },
    "r": {
     "delete_cmd_postfix": ") ",
     "delete_cmd_prefix": "rm(",
     "library": "var_list.r",
     "varRefreshCmd": "cat(var_dic_list()) "
    }
   },
   "types_to_exclude": [
    "module",
    "function",
    "builtin_function_or_method",
    "instance",
    "_Feature"
   ],
   "window_display": false
  }
 },
 "nbformat": 4,
 "nbformat_minor": 4
}
