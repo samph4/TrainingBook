{
 "cells": [
  {
   "cell_type": "markdown",
   "metadata": {},
   "source": [
    "### Introduction to Python\n",
    "\n",
    "Python is a relatively easy language to learn as it shares a lot of similarities with MATLAB. When we want to create neural networks and ai algorithms, its much easier to use Python as the programming language as you have access to many more tools and support than you would have with MATLAB. Whilst MATLAB is a nice integrated environment that does has excellent support, you are often dependent on the packages that they release and the overall support for machine learning tools is definitely limited when compared to the Python development environment. Python is nice because you have access to many open-source libraries that have pre-written functions that make your life a lot easier.\n",
    "\n",
    "A basic example of this is something like the linspace function in MATLAB, upon loading MATLAB you'll be able to type into the command window ' a = linspace(0,10,10)' and it will store a variable a and print it out. Python works a little differently. Out of the box the linspace function is not present in the python libraries, but instead you can 'import' a library that gives you that same functionality. In the cell block below, we import a module named 'numpy'. This is a very popular package which contains a lot of the data manipulation tools you typically find and use in MATLAB. In python at the top of the document, it is good practice to import all of the libraries that you will use in the rest of your algorithm.\n",
    "\n",
    "There are a bunch of different libraries people use to develop machine learning algorithms, from PyTorch, TensorFlow, Keras, FastAI etc etc, they all have positive attributes and negative attributes and quite often its a matter of preference which one you should use. I tend to use Keras to develop my models as it uses a simple syntax to write the code (functions are elegantly written and easy to understand), it shared the most comparisons with MATLAB so made sense in my head and gives you all of the flexibility you could ever really need ."
   ]
  },
  {
   "cell_type": "markdown",
   "metadata": {},
   "source": [
    "#### Importing Modules and Interacting with them"
   ]
  },
  {
   "cell_type": "code",
   "execution_count": 17,
   "metadata": {},
   "outputs": [],
   "source": [
    "import numpy"
   ]
  },
  {
   "cell_type": "markdown",
   "metadata": {},
   "source": [
    "Here we have imported numpy, and therefore have access to all of the functions that exist within the numpy module - see the documentation for all the info https://numpy.org/doc/stable/reference/routines.math.html. But a useful function that is built into Python is one called `dir`. This function can be used to show the entire directory of a module and list all of the functions that exist within it. So if we call `dir(numpy)`, all attributes associated with the `numpy` module will be printed and you can then select the function that suits your needs. If you are unsure as to what any of the functions do, then often you can call the `help` function. Which again is built into Python. So if we consider the linspace example again, we can call `help(numpy.linspace)`:"
   ]
  },
  {
   "cell_type": "code",
   "execution_count": 18,
   "metadata": {
    "scrolled": true
   },
   "outputs": [
    {
     "name": "stdout",
     "output_type": "stream",
     "text": [
      "Help on function linspace in module numpy:\n",
      "\n",
      "linspace(start, stop, num=50, endpoint=True, retstep=False, dtype=None, axis=0)\n",
      "    Return evenly spaced numbers over a specified interval.\n",
      "    \n",
      "    Returns `num` evenly spaced samples, calculated over the\n",
      "    interval [`start`, `stop`].\n",
      "    \n",
      "    The endpoint of the interval can optionally be excluded.\n",
      "    \n",
      "    .. versionchanged:: 1.16.0\n",
      "        Non-scalar `start` and `stop` are now supported.\n",
      "    \n",
      "    Parameters\n",
      "    ----------\n",
      "    start : array_like\n",
      "        The starting value of the sequence.\n",
      "    stop : array_like\n",
      "        The end value of the sequence, unless `endpoint` is set to False.\n",
      "        In that case, the sequence consists of all but the last of ``num + 1``\n",
      "        evenly spaced samples, so that `stop` is excluded.  Note that the step\n",
      "        size changes when `endpoint` is False.\n",
      "    num : int, optional\n",
      "        Number of samples to generate. Default is 50. Must be non-negative.\n",
      "    endpoint : bool, optional\n",
      "        If True, `stop` is the last sample. Otherwise, it is not included.\n",
      "        Default is True.\n",
      "    retstep : bool, optional\n",
      "        If True, return (`samples`, `step`), where `step` is the spacing\n",
      "        between samples.\n",
      "    dtype : dtype, optional\n",
      "        The type of the output array.  If `dtype` is not given, infer the data\n",
      "        type from the other input arguments.\n",
      "    \n",
      "        .. versionadded:: 1.9.0\n",
      "    \n",
      "    axis : int, optional\n",
      "        The axis in the result to store the samples.  Relevant only if start\n",
      "        or stop are array-like.  By default (0), the samples will be along a\n",
      "        new axis inserted at the beginning. Use -1 to get an axis at the end.\n",
      "    \n",
      "        .. versionadded:: 1.16.0\n",
      "    \n",
      "    Returns\n",
      "    -------\n",
      "    samples : ndarray\n",
      "        There are `num` equally spaced samples in the closed interval\n",
      "        ``[start, stop]`` or the half-open interval ``[start, stop)``\n",
      "        (depending on whether `endpoint` is True or False).\n",
      "    step : float, optional\n",
      "        Only returned if `retstep` is True\n",
      "    \n",
      "        Size of spacing between samples.\n",
      "    \n",
      "    \n",
      "    See Also\n",
      "    --------\n",
      "    arange : Similar to `linspace`, but uses a step size (instead of the\n",
      "             number of samples).\n",
      "    geomspace : Similar to `linspace`, but with numbers spaced evenly on a log\n",
      "                scale (a geometric progression).\n",
      "    logspace : Similar to `geomspace`, but with the end points specified as\n",
      "               logarithms.\n",
      "    \n",
      "    Examples\n",
      "    --------\n",
      "    >>> np.linspace(2.0, 3.0, num=5)\n",
      "    array([2.  , 2.25, 2.5 , 2.75, 3.  ])\n",
      "    >>> np.linspace(2.0, 3.0, num=5, endpoint=False)\n",
      "    array([2. ,  2.2,  2.4,  2.6,  2.8])\n",
      "    >>> np.linspace(2.0, 3.0, num=5, retstep=True)\n",
      "    (array([2.  ,  2.25,  2.5 ,  2.75,  3.  ]), 0.25)\n",
      "    \n",
      "    Graphical illustration:\n",
      "    \n",
      "    >>> import matplotlib.pyplot as plt\n",
      "    >>> N = 8\n",
      "    >>> y = np.zeros(N)\n",
      "    >>> x1 = np.linspace(0, 10, N, endpoint=True)\n",
      "    >>> x2 = np.linspace(0, 10, N, endpoint=False)\n",
      "    >>> plt.plot(x1, y, 'o')\n",
      "    [<matplotlib.lines.Line2D object at 0x...>]\n",
      "    >>> plt.plot(x2, y + 0.5, 'o')\n",
      "    [<matplotlib.lines.Line2D object at 0x...>]\n",
      "    >>> plt.ylim([-0.5, 1])\n",
      "    (-0.5, 1)\n",
      "    >>> plt.show()\n",
      "\n"
     ]
    }
   ],
   "source": [
    "help(numpy.linspace)"
   ]
  },
  {
   "cell_type": "markdown",
   "metadata": {},
   "source": [
    "This is obviously useful as it explains what the function itself does, and how it works. I used to use this all the time when I coded in MATLAB and it makes my life a lot easier in Python too. It also shows a bunch of examples at the end which is useful. So then in a similar fashion to MATLAB, we can define a linearly-spaced vector with 10 elements between 0 and 10 called 'a' in Python as follows:"
   ]
  },
  {
   "cell_type": "code",
   "execution_count": 19,
   "metadata": {},
   "outputs": [],
   "source": [
    "a = numpy.linspace(0,10,10)"
   ]
  },
  {
   "cell_type": "markdown",
   "metadata": {},
   "source": [
    "We can then 'print' the value of a into the command line by simply typing `print(a)`. Note that when you define a variable python will not immediately print it into the command window and as such there is no need for the ';' to terminate the output like you do in MATLAB. Here, we can use the semi-colon to write multiple lines of code on the same line as:"
   ]
  },
  {
   "cell_type": "code",
   "execution_count": 20,
   "metadata": {},
   "outputs": [
    {
     "name": "stdout",
     "output_type": "stream",
     "text": [
      "a =  [ 0.          1.11111111  2.22222222  3.33333333  4.44444444  5.55555556\n",
      "  6.66666667  7.77777778  8.88888889 10.        ]\n",
      "b =  [ 0.          2.22222222  4.44444444  6.66666667  8.88888889 11.11111111\n",
      " 13.33333333 15.55555556 17.77777778 20.        ]\n"
     ]
    }
   ],
   "source": [
    "a = numpy.linspace(0,10,10); b = numpy.linspace(0,20,10) \n",
    "print(f'a = ', a)\n",
    "print(f'b = ', b)"
   ]
  },
  {
   "cell_type": "markdown",
   "metadata": {},
   "source": [
    "```{Note}\n",
    "That random f at the start of the print function, is known as a formatted string. It is useful because it allows you to combine a string and a variable easily without having to convert the variable into string format.\n",
    "```\n",
    "\n",
    "#### Types of Variables you will find in Python"
   ]
  },
  {
   "cell_type": "markdown",
   "metadata": {},
   "source": [
    "You probably noticed that I did something weird in the print function when printing the variable. This was just so that the output looks nicer but raises an important point about variable types in Python. In Python, a variable can exist in any of five key formats:\n",
    "\n",
    "* Numeric (integer, float, complex number)\n",
    "* Dictionary\n",
    "* Boolean (True/False)\n",
    "* Set\n",
    "* Sequence Type (strings, list, tuple).\n",
    "\n",
    "You may or may not end up using a lot of these. But it is good to have some understanding of what kind of variable you are interacting with, especially if ever you run into problems with your code and need to start troubleshooting. Often a good place to start is just to double check what `type` your variable actually is. With that in mind, lets look at a couple examples:"
   ]
  },
  {
   "cell_type": "code",
   "execution_count": 21,
   "metadata": {},
   "outputs": [],
   "source": [
    "c = 4\n",
    "c1 = 4.3 \n",
    "d = 'This is an example of a string!'\n",
    "e = True\n",
    "f = '4'"
   ]
  },
  {
   "cell_type": "markdown",
   "metadata": {},
   "source": [
    "Here we have defined a bunch of different variables, by using the `type` function we can confirm what variable `c` is by simply writing `type(c)`. We see that it is an integer as you'd expect. This is important because you can therefore interact with this variable as you would expect with any number i.e. add, multiply, subtract and divide etc etc."
   ]
  },
  {
   "cell_type": "code",
   "execution_count": 25,
   "metadata": {},
   "outputs": [
    {
     "data": {
      "text/plain": [
       "int"
      ]
     },
     "execution_count": 25,
     "metadata": {},
     "output_type": "execute_result"
    }
   ],
   "source": [
    "type(c)"
   ]
  },
  {
   "cell_type": "markdown",
   "metadata": {},
   "source": [
    "Here I'll  use those formatted strings again just to show the data types of the other variables."
   ]
  },
  {
   "cell_type": "code",
   "execution_count": 32,
   "metadata": {},
   "outputs": [
    {
     "name": "stdout",
     "output_type": "stream",
     "text": [
      "Variable c is a <class 'int'> .\n",
      "Variable c is a <class 'float'> .\n",
      "Variable c is a <class 'str'> .\n",
      "Variable c is a <class 'bool'> .\n",
      "Variable c is a <class 'str'> .\n"
     ]
    }
   ],
   "source": [
    "print(f'Variable c is a',type(c),'.')\n",
    "print(f'Variable c is a',type(c1),'.')\n",
    "print(f'Variable c is a',type(d),'.')\n",
    "print(f'Variable c is a',type(e),'.')\n",
    "print(f'Variable c is a',type(f),'.')"
   ]
  },
  {
   "cell_type": "markdown",
   "metadata": {},
   "source": [
    "Note that variables c and f are both equal to 4. However it is important to understand that they are different variable types. See what happens when we add them to themselves."
   ]
  },
  {
   "cell_type": "code",
   "execution_count": 35,
   "metadata": {},
   "outputs": [
    {
     "name": "stdout",
     "output_type": "stream",
     "text": [
      "c + c =  8\n",
      "f + f =  44\n"
     ]
    }
   ],
   "source": [
    "c2 = c + c \n",
    "f2 = f + f \n",
    "\n",
    "print(f'c + c = ',c2)\n",
    "print(f'f + f = ',f2)"
   ]
  },
  {
   "cell_type": "markdown",
   "metadata": {},
   "source": [
    "You'll notice that for the string case it has literally added the variable next to itself. This would obviously be problematic if you were writing some code that was expecting the value to be 8. Python is very flexible and is extremely good at working with different types of data allowing you to code up all sorts of funky things without the same limitations that MATLAB gives you. But it's important to be aware of this kind of stuff. \n",
    "\n",
    "```{Tip}\n",
    "We could convert the string object to an integer by calling int(variable) and Python will attempt to convert the variable to integer format. Note that this will only work if the string contains only numbers, as you might expect it would be impossible to convert a string containing letters to numeric format.\n",
    "```\n",
    "\n",
    "Similarly, this example indicates the same thing - however this time it is more obvious that it is a string and (depending on the program) this operation might be something that we would actually want to do:"
   ]
  },
  {
   "cell_type": "code",
   "execution_count": 44,
   "metadata": {},
   "outputs": [
    {
     "name": "stdout",
     "output_type": "stream",
     "text": [
      "This is an example of a string! This is an example of a string! \n"
     ]
    }
   ],
   "source": [
    "print(d+d)"
   ]
  },
  {
   "cell_type": "markdown",
   "metadata": {},
   "source": [
    "#### Loops and Conditional Statements\n",
    "\n",
    "If you're using MATLAB chances are you're very familiar with creating loops to do a bunch of different things. I'll do my best to explain how loops and things work in Python because it is very similar but with a few differences. I'll start with a couple of simple example and maybe spend a moment looking at it to see what is going on - then ill explain them in a bit more detail. "
   ]
  },
  {
   "cell_type": "code",
   "execution_count": 25,
   "metadata": {},
   "outputs": [
    {
     "name": "stdout",
     "output_type": "stream",
     "text": [
      "0.0\n",
      "1.0\n",
      "2.0\n",
      "3.0\n",
      "4.0\n"
     ]
    }
   ],
   "source": [
    "for i in numpy.linspace(0,4,5):\n",
    "    print(i)"
   ]
  },
  {
   "cell_type": "code",
   "execution_count": 27,
   "metadata": {},
   "outputs": [
    {
     "name": "stdout",
     "output_type": "stream",
     "text": [
      "0\n",
      "1\n",
      "2\n",
      "3\n",
      "4\n"
     ]
    }
   ],
   "source": [
    "for i in range(5):\n",
    "    print(i)"
   ]
  },
  {
   "cell_type": "markdown",
   "metadata": {},
   "source": [
    "```{Note}\n",
    "Range function uses integer values, linspace creates floats (float includes decimal).\n",
    "```"
   ]
  },
  {
   "cell_type": "code",
   "execution_count": 50,
   "metadata": {},
   "outputs": [
    {
     "name": "stdout",
     "output_type": "stream",
     "text": [
      "apple\n",
      "banana\n",
      "cherry\n",
      "grapefruit\n"
     ]
    }
   ],
   "source": [
    "fruits = ['apple','banana','cherry','grapefruit']\n",
    "for x in fruits:\n",
    "    print(x)"
   ]
  },
  {
   "cell_type": "markdown",
   "metadata": {},
   "source": [
    "##### The Break statement\n",
    "We can stop the loop early once a condition has been met. Note that conditions can be used with the Boolean data type, so if something is 'True' or 'False' - do something!"
   ]
  },
  {
   "cell_type": "code",
   "execution_count": 60,
   "metadata": {},
   "outputs": [
    {
     "name": "stdout",
     "output_type": "stream",
     "text": [
      "apple\n",
      "banana\n"
     ]
    }
   ],
   "source": [
    "fruits = [\"apple\", \"banana\", \"cherry\"]\n",
    "for x in fruits:\n",
    "  print(x)\n",
    "  if x == \"banana\":\n",
    "    break"
   ]
  },
  {
   "cell_type": "markdown",
   "metadata": {},
   "source": [
    "```{tip}\n",
    "Note that the print function is present before the break, if this was the other way around the loop would not print 'banana'!\n",
    "```\n",
    "\n",
    "#### Python Assignment Operators\n",
    " You'll probably have noticed in the example above that the conditional equal statement in Python is written as '==' with two equal signs. Here is a list of other operations you might find yourself wanting to use:\n",
    "\n",
    "![Image](./Figures/Operators.png)\n",
    "\n",
    "These expressions are flexible and you can use them in whichever way you desire to form your algorithms."
   ]
  }
 ],
 "metadata": {
  "hide_input": false,
  "kernelspec": {
   "display_name": "Python 3.7 (tensorflow)",
   "language": "python",
   "name": "tensorflow"
  },
  "language_info": {
   "codemirror_mode": {
    "name": "ipython",
    "version": 3
   },
   "file_extension": ".py",
   "mimetype": "text/x-python",
   "name": "python",
   "nbconvert_exporter": "python",
   "pygments_lexer": "ipython3",
   "version": "3.7.7"
  },
  "varInspector": {
   "cols": {
    "lenName": 16,
    "lenType": 16,
    "lenVar": 40
   },
   "kernels_config": {
    "python": {
     "delete_cmd_postfix": "",
     "delete_cmd_prefix": "del ",
     "library": "var_list.py",
     "varRefreshCmd": "print(var_dic_list())"
    },
    "r": {
     "delete_cmd_postfix": ") ",
     "delete_cmd_prefix": "rm(",
     "library": "var_list.r",
     "varRefreshCmd": "cat(var_dic_list()) "
    }
   },
   "types_to_exclude": [
    "module",
    "function",
    "builtin_function_or_method",
    "instance",
    "_Feature"
   ],
   "window_display": false
  }
 },
 "nbformat": 4,
 "nbformat_minor": 4
}
