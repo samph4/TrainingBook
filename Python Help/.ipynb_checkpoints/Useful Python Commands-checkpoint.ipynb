{
 "cells": [
  {
   "cell_type": "markdown",
   "metadata": {},
   "source": [
    "# Useful Packages / Commands\n",
    "\n",
    "I'll structure this section so that it exists as a resource more than anything; find the section that corresponds to the work (or task) that you are trying to do and find the packages that might be able to help. Please note that when we import modules into Python, all that we are really doing is importing new functions that we can use directly in our algorithms. There is nothing stopping us creating these functions ourselves and coding everything explicitly from the ground up in Python, just understand that that is an endeavour that will take a lot of time and these functions are available primarily at your convenience. The open-source support network in Python is one of the coding languages strongest attributes as users can share useful bits of code amongst each other with the goal of making everybody more productive. If you are coming from a MATLAB background, it may seem that MATLAB has all of the functionality built in. But that isn't completely the case, you may remember whenever you first install MATLAB that you have the option to select 'add-on'toolboxes that provide additional functionality such as the 'Control System Toolbox', Signal Processing Toolbox' etc, this is pretty much the same principle as what we are doing here.\n",
    "\n",
    "## Preface: Importing Functions\n",
    "\n",
    "Lets look at a simple example to see some of the options available to us when importing modules. We will use `numpy` which is the core library for scientific computing in Python. "
   ]
  },
  {
   "cell_type": "code",
   "execution_count": 1,
   "metadata": {},
   "outputs": [],
   "source": [
    "import numpy"
   ]
  },
  {
   "cell_type": "markdown",
   "metadata": {},
   "source": [
    "Simply typing `import numpy` imports the entire `numpy` module into our Python environment. One of the useful functions associated with the `numpy` module is `linspace`. To access this function we type:"
   ]
  },
  {
   "cell_type": "code",
   "execution_count": 2,
   "metadata": {},
   "outputs": [
    {
     "data": {
      "text/plain": [
       "array([0.        , 0.11111111, 0.22222222, 0.33333333, 0.44444444,\n",
       "       0.55555556, 0.66666667, 0.77777778, 0.88888889, 1.        ])"
      ]
     },
     "execution_count": 2,
     "metadata": {},
     "output_type": "execute_result"
    }
   ],
   "source": [
    "numpy.linspace(0,1,10)"
   ]
  },
  {
   "cell_type": "markdown",
   "metadata": {},
   "source": [
    "Sometimes we might have the desire to change the package name that we import, perhaps instead of writing out `numpy` everytime we want to call a function from the `numpy` module; we might prefer to write `np` instead. This can be done easily by changing how we import the module using the `as` command:"
   ]
  },
  {
   "cell_type": "code",
   "execution_count": 3,
   "metadata": {},
   "outputs": [],
   "source": [
    "import numpy as np"
   ]
  },
  {
   "cell_type": "markdown",
   "metadata": {},
   "source": [
    "We can repeat the statement we performed previously in the same way but with the abbreviated name:"
   ]
  },
  {
   "cell_type": "code",
   "execution_count": 4,
   "metadata": {},
   "outputs": [
    {
     "data": {
      "text/plain": [
       "array([0.        , 0.11111111, 0.22222222, 0.33333333, 0.44444444,\n",
       "       0.55555556, 0.66666667, 0.77777778, 0.88888889, 1.        ])"
      ]
     },
     "execution_count": 4,
     "metadata": {},
     "output_type": "execute_result"
    }
   ],
   "source": [
    "np.linspace(0,1,10)"
   ]
  },
  {
   "cell_type": "markdown",
   "metadata": {},
   "source": [
    "You'll notice that it does the exact same thing but now we have a little more flexibility. When we import the numpy module we have access to all of the functions within it. You can imagine how this might introduce wastage into larger programs and could slow down runtimes, importing many functions that are unnecessary is not considered good practice when coding so here I show you an option to `import` specific functions directly. This is quite intuitive, we can say:"
   ]
  },
  {
   "cell_type": "code",
   "execution_count": 5,
   "metadata": {},
   "outputs": [],
   "source": [
    "from numpy import linspace"
   ]
  },
  {
   "cell_type": "markdown",
   "metadata": {},
   "source": [
    "So from the `numpy` module we want to import the `linspace` function. Importing the function in this direct way means that we do not have to call the function from the package. Instead, we have imported the `linspace` function directly and can then use it as such:"
   ]
  },
  {
   "cell_type": "code",
   "execution_count": 6,
   "metadata": {},
   "outputs": [
    {
     "data": {
      "text/plain": [
       "array([0.        , 0.11111111, 0.22222222, 0.33333333, 0.44444444,\n",
       "       0.55555556, 0.66666667, 0.77777778, 0.88888889, 1.        ])"
      ]
     },
     "execution_count": 6,
     "metadata": {},
     "output_type": "execute_result"
    }
   ],
   "source": [
    "linspace(0,1,10)"
   ]
  },
  {
   "cell_type": "markdown",
   "metadata": {},
   "source": [
    "```{Note}\n",
    "You will see %%capture written in some of the code cells in this notebook. All this does is suppress the output of the code cell so that it does not print in the space below. It will just help to keep the notebook more condensed and easier to read.\n",
    "```\n",
    "\n",
    "~\n",
    "\n",
    "## Data Manipulation\n",
    "\n",
    "`numpy` `pandas`\n",
    "\n",
    "~\n",
    "\n",
    "`Numpy` is the core library for scientific computing in Python. It provides a high-performance multidimensional array object and tools for working with these arrays. Numpy is a powerful N-dimensional array object which is Linear algebra for Python. They allow us to work with vectors, matrices and arrays and manipulate them with ease. Full documentation at https://numpy.org/.\n",
    "\n",
    "`Pandas` is an open-source library built on top of `numpy` providing high performance, easy-to-use data structures for data analysis. It allows for fast analysis, data cleaning and data preparation. It can work with data from a wide variety of sources and is suited for many kinds of data from a wide variety of sources; tabular data, time-series data and supports all data types.\n",
    "\n",
    "~\n",
    "\n",
    "### Numpy\n",
    "\n",
    "#### Creating arrays"
   ]
  },
  {
   "cell_type": "code",
   "execution_count": 11,
   "metadata": {},
   "outputs": [],
   "source": [
    "import numpy as np \n",
    "a = np.array([1,2,3])             # creates a 1D array\n",
    "a = np.array([[1,2,3],[4,5,6]])   # creates a 2D array\n",
    "a = np.arange(15)                 # generate 1D array with 15 elements from 0 to 14\n",
    "a = np.arange(15).reshape(3,5)    # reshapes 1D array into 2D array with 3 rows and 5 columns"
   ]
  },
  {
   "cell_type": "markdown",
   "metadata": {},
   "source": [
    "#### Understanding arrays"
   ]
  },
  {
   "cell_type": "code",
   "execution_count": 15,
   "metadata": {},
   "outputs": [],
   "source": [
    "%%capture\n",
    "a = np.array([1,2,3])             # creates a 1D array\n",
    "print(a)                          # prints variable a\n",
    "type(a)                           # returns the type of variable a\n",
    "len(a)                            # returns the length of variable a\n",
    "a.ndim                            # returns the number of dimensions of variable a\n",
    "a.shape                           # returns the shape of variable a"
   ]
  },
  {
   "cell_type": "markdown",
   "metadata": {},
   "source": [
    "#### Create more useful arrays"
   ]
  },
  {
   "cell_type": "code",
   "execution_count": 25,
   "metadata": {},
   "outputs": [],
   "source": [
    "%%capture\n",
    "np.linspace(0,3,4)                # creates 4 equally spaced points between 0 and 3\n",
    "np.random.randint(0,100,6)        # create array of 6 random values between 0-100\n",
    "np.random.rand(4)                 # create an array of uniform distribution (0,1)\n",
    "np.eye(3)                         # create a 3*3 identity matrix\n",
    "np.zeros(3)                       # create array [0,0,0]\n",
    "np.zeros((5,5))                   # create 2D array with 5 rows and 5 columns of zeros\n",
    "np.ones((2,3,4), dtype=np.int16)  # creates 3D array of size (2,3,4) with int16 datatype."
   ]
  },
  {
   "cell_type": "markdown",
   "metadata": {},
   "source": [
    "#### Basic Operations of ndarray"
   ]
  },
  {
   "cell_type": "code",
   "execution_count": 35,
   "metadata": {},
   "outputs": [],
   "source": [
    "%%capture\n",
    "A = np.array([[1,1],[0,1]])\n",
    "B = np.array([[2,0],[3,4]])\n",
    "A + B                             # addition of two arrays\n",
    "A * B                             # element-wise product\n",
    "A @ B                             # matrix product\n",
    "A.T                               # transpose of matrix A\n",
    "A.flatten()                       # form 1-D array\n",
    "B < 3                             # creates Boolean matrix of B. True for elements < 3  \n",
    "A.sum()                           # sum of all elements in A\n",
    "A.sum(axis=0)                     # sum of each column\n",
    "A.sum(axis=1)                     # sum of each row\n",
    "A.min()                           # returns minimum value of A\n",
    "A.max()                           # returns maximum value of A\n",
    "np.exp(B)                         # returns exponential\n",
    "np.sqrt(B)                        # returns square root of B\n",
    "A.argmin()                        # position of minimum element in A"
   ]
  },
  {
   "cell_type": "markdown",
   "metadata": {},
   "source": [
    "#### Indexing and Slicing "
   ]
  },
  {
   "cell_type": "code",
   "execution_count": 45,
   "metadata": {},
   "outputs": [],
   "source": [
    "%%capture\n",
    "a = np.arange(4)**3               # creates 4 element vector a with values 0-3 cubed\n",
    "a[2]                              # returns member of a in position 2\n",
    "a[::-1]                           # reverses vector a\n",
    "a[a>5]                            # returns a with values > 5\n",
    "\n",
    "b = np.array([[2,0],[3,4], [3,1]])\n",
    "b[0:2,1]                          # returns first two elements in column 1 (2nd colum)\n",
    "b[:,0]                            # returns all elements in column 0 (1st column)"
   ]
  },
  {
   "cell_type": "markdown",
   "metadata": {},
   "source": [
    "### Pandas"
   ]
  },
  {
   "cell_type": "code",
   "execution_count": null,
   "metadata": {},
   "outputs": [],
   "source": []
  },
  {
   "cell_type": "code",
   "execution_count": null,
   "metadata": {},
   "outputs": [],
   "source": []
  },
  {
   "cell_type": "code",
   "execution_count": null,
   "metadata": {},
   "outputs": [],
   "source": []
  },
  {
   "cell_type": "code",
   "execution_count": null,
   "metadata": {},
   "outputs": [],
   "source": []
  },
  {
   "cell_type": "markdown",
   "metadata": {},
   "source": [
    "## Machine Learning\n",
    "\n",
    "`keras` `tensorflow` `fastai` `pytorch`"
   ]
  },
  {
   "cell_type": "code",
   "execution_count": null,
   "metadata": {},
   "outputs": [],
   "source": []
  },
  {
   "cell_type": "code",
   "execution_count": null,
   "metadata": {},
   "outputs": [],
   "source": []
  },
  {
   "cell_type": "markdown",
   "metadata": {},
   "source": [
    "## Operating System\n",
    "\n",
    "`os`\n",
    "\n",
    "~\n",
    "\n",
    "The `os` module provides a portable way of using operating system dependent functionality. The documentation can be found here https://docs.python.org/3/library/os.html. The main function I use from this module is `os.getcwd()` which is useful for determining the current path you are working on in your current directory. This helps avoid any issues when you want to save logs, images or files into the correct places during your algorithm."
   ]
  },
  {
   "cell_type": "code",
   "execution_count": 47,
   "metadata": {},
   "outputs": [
    {
     "name": "stdout",
     "output_type": "stream",
     "text": [
      "C:\\Users\\Samuel\\Documents\\samph4\\TrainingBook\\Python Help\n"
     ]
    }
   ],
   "source": [
    "import os\n",
    "path = os.getcwd()\n",
    "print(path)"
   ]
  },
  {
   "cell_type": "code",
   "execution_count": null,
   "metadata": {},
   "outputs": [],
   "source": []
  }
 ],
 "metadata": {
  "hide_input": false,
  "kernelspec": {
   "display_name": "Python 3",
   "language": "python",
   "name": "python3"
  },
  "language_info": {
   "codemirror_mode": {
    "name": "ipython",
    "version": 3
   },
   "file_extension": ".py",
   "mimetype": "text/x-python",
   "name": "python",
   "nbconvert_exporter": "python",
   "pygments_lexer": "ipython3",
   "version": "3.7.7"
  },
  "varInspector": {
   "cols": {
    "lenName": 16,
    "lenType": 16,
    "lenVar": 40
   },
   "kernels_config": {
    "python": {
     "delete_cmd_postfix": "",
     "delete_cmd_prefix": "del ",
     "library": "var_list.py",
     "varRefreshCmd": "print(var_dic_list())"
    },
    "r": {
     "delete_cmd_postfix": ") ",
     "delete_cmd_prefix": "rm(",
     "library": "var_list.r",
     "varRefreshCmd": "cat(var_dic_list()) "
    }
   },
   "types_to_exclude": [
    "module",
    "function",
    "builtin_function_or_method",
    "instance",
    "_Feature"
   ],
   "window_display": false
  }
 },
 "nbformat": 4,
 "nbformat_minor": 4
}
